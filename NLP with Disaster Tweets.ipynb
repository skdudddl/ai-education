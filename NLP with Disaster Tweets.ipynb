{
 "metadata": {
  "kernelspec": {
   "language": "python",
   "display_name": "Python 3",
   "name": "python3"
  },
  "language_info": {
   "name": "python",
   "version": "3.7.12",
   "mimetype": "text/x-python",
   "codemirror_mode": {
    "name": "ipython",
    "version": 3
   },
   "pygments_lexer": "ipython3",
   "nbconvert_exporter": "python",
   "file_extension": ".py"
  }
 },
 "nbformat_minor": 4,
 "nbformat": 4,
 "cells": [
  {
   "cell_type": "code",
   "source": "import pandas as pd \nimport numpy as np\nimport nltk\nimport re \nimport os \nimport random \nimport matplotlib.pyplot as plt\nimport seaborn as sns \nimport html\nimport warnings\nwarnings.filterwarnings(\"ignore\", category=DeprecationWarning)\nimport string",
   "metadata": {
    "_uuid": "8f2839f25d086af736a60e9eeb907d3b93b6e0e5",
    "_cell_guid": "b1076dfc-b9ad-4769-8c92-a6c4dae69d19",
    "execution": {
     "iopub.status.busy": "2021-12-24T08:56:18.539157Z",
     "iopub.execute_input": "2021-12-24T08:56:18.539604Z",
     "iopub.status.idle": "2021-12-24T08:56:20.270314Z",
     "shell.execute_reply.started": "2021-12-24T08:56:18.539503Z",
     "shell.execute_reply": "2021-12-24T08:56:20.268920Z"
    },
    "trusted": true
   },
   "execution_count": 1,
   "outputs": []
  },
  {
   "cell_type": "code",
   "source": "train = pd.read_csv(\"../input/nlp-getting-started/train.csv\")\ntest = pd.read_csv(\"../input/nlp-getting-started/test.csv\")\n\n\ntrain.head()\n\nsample = train[\"text\"].values\ntarget = train[\"target\"].values\n\nprint(sample)\nprint(target)\n\n",
   "metadata": {
    "execution": {
     "iopub.status.busy": "2021-12-24T08:56:20.271747Z",
     "iopub.execute_input": "2021-12-24T08:56:20.271929Z",
     "iopub.status.idle": "2021-12-24T08:56:20.353613Z",
     "shell.execute_reply.started": "2021-12-24T08:56:20.271907Z",
     "shell.execute_reply": "2021-12-24T08:56:20.352790Z"
    },
    "trusted": true
   },
   "execution_count": 2,
   "outputs": []
  },
  {
   "cell_type": "code",
   "source": "train.shape, test.shape\n",
   "metadata": {
    "execution": {
     "iopub.status.busy": "2021-12-24T08:56:20.354569Z",
     "iopub.execute_input": "2021-12-24T08:56:20.355386Z",
     "iopub.status.idle": "2021-12-24T08:56:20.362977Z",
     "shell.execute_reply.started": "2021-12-24T08:56:20.355327Z",
     "shell.execute_reply": "2021-12-24T08:56:20.362150Z"
    },
    "trusted": true
   },
   "execution_count": 3,
   "outputs": []
  },
  {
   "cell_type": "code",
   "source": "#null값 확인\ntrain.isnull().sum(),test.isnull().sum()",
   "metadata": {
    "execution": {
     "iopub.status.busy": "2021-12-24T08:56:20.364501Z",
     "iopub.execute_input": "2021-12-24T08:56:20.364680Z",
     "iopub.status.idle": "2021-12-24T08:56:20.383978Z",
     "shell.execute_reply.started": "2021-12-24T08:56:20.364655Z",
     "shell.execute_reply": "2021-12-24T08:56:20.382639Z"
    },
    "trusted": true
   },
   "execution_count": 4,
   "outputs": []
  },
  {
   "cell_type": "code",
   "source": "#null값을 0으로 채우기\ntrain['location'] = train['location'].fillna(train['location'].mode()[0])\ntrain['keyword'] = train['keyword'].fillna(train['keyword'].mode()[0])\n\ntest['location'] = test['location'].fillna(test['location'].mode()[0])\ntest['keyword'] = test['keyword'].fillna(test['keyword'].mode()[0])\n",
   "metadata": {
    "execution": {
     "iopub.status.busy": "2021-12-24T08:56:20.385997Z",
     "iopub.execute_input": "2021-12-24T08:56:20.386302Z",
     "iopub.status.idle": "2021-12-24T08:56:20.402339Z",
     "shell.execute_reply.started": "2021-12-24T08:56:20.386267Z",
     "shell.execute_reply": "2021-12-24T08:56:20.401788Z"
    },
    "trusted": true
   },
   "execution_count": 5,
   "outputs": []
  },
  {
   "cell_type": "code",
   "source": "#null값 확인\ntrain.isnull().sum(),test.isnull().sum()",
   "metadata": {
    "execution": {
     "iopub.status.busy": "2021-12-24T08:56:20.403818Z",
     "iopub.execute_input": "2021-12-24T08:56:20.404712Z",
     "iopub.status.idle": "2021-12-24T08:56:20.425224Z",
     "shell.execute_reply.started": "2021-12-24T08:56:20.404675Z",
     "shell.execute_reply": "2021-12-24T08:56:20.424560Z"
    },
    "trusted": true
   },
   "execution_count": 6,
   "outputs": []
  },
  {
   "cell_type": "code",
   "source": "#create a new colums\ntrain['processed_text'] = html.unescape(train['text'])\ntest['processed_text'] = html.unescape(test['text'])",
   "metadata": {
    "execution": {
     "iopub.status.busy": "2021-12-24T08:56:20.426906Z",
     "iopub.execute_input": "2021-12-24T08:56:20.427258Z",
     "iopub.status.idle": "2021-12-24T08:56:20.437967Z",
     "shell.execute_reply.started": "2021-12-24T08:56:20.427231Z",
     "shell.execute_reply": "2021-12-24T08:56:20.437446Z"
    },
    "trusted": true
   },
   "execution_count": 7,
   "outputs": []
  },
  {
   "cell_type": "code",
   "source": "def lookup_dict(text, dictionary):\n    for word in text.split():\n        if word.lower() in dictionary:\n            if word.lower in text.split():\n                text = text.replace(word, dictionary[word.lower()])\n    return text",
   "metadata": {
    "execution": {
     "iopub.status.busy": "2021-12-24T08:56:20.439010Z",
     "iopub.execute_input": "2021-12-24T08:56:20.439316Z",
     "iopub.status.idle": "2021-12-24T08:56:20.453389Z",
     "shell.execute_reply.started": "2021-12-24T08:56:20.439290Z",
     "shell.execute_reply": "2021-12-24T08:56:20.452000Z"
    },
    "trusted": true
   },
   "execution_count": 8,
   "outputs": []
  },
  {
   "cell_type": "code",
   "source": "# Apostrophe Dictionary\napostrophe_dict = {\n\"ain't\": \"am not / are not\",\n\"aren't\": \"are not / am not\",\n\"can't\": \"cannot\",\n\"can't've\": \"cannot have\",\n\"'cause\": \"because\",\n\"could've\": \"could have\",\n\"couldn't\": \"could not\",\n\"couldn't've\": \"could not have\",\n\"didn't\": \"did not\",\n\"doesn't\": \"does not\",\n\"don't\": \"do not\",\n\"hadn't\": \"had not\",\n\"hadn't've\": \"had not have\",\n\"hasn't\": \"has not\",\n\"haven't\": \"have not\",\n\"he'd\": \"he had / he would\",\n\"he'd've\": \"he would have\",\n\"he'll\": \"he shall / he will\",\n\"he'll've\": \"he shall have / he will have\",\n\"he's\": \"he has / he is\",\n\"how'd\": \"how did\",\n\"how'd'y\": \"how do you\",\n\"how'll\": \"how will\",\n\"how's\": \"how has / how is\",\n\"i'd\": \"I had / I would\",\n\"i'd've\": \"I would have\",\n\"i'll\": \"I shall / I will\",\n\"i'll've\": \"I shall have / I will have\",\n\"i'm\": \"I am\",\n\"i've\": \"I have\",\n\"isn't\": \"is not\",\n\"it'd\": \"it had / it would\",\n\"it'd've\": \"it would have\",\n\"it'll\": \"it shall / it will\",\n\"it'll've\": \"it shall have / it will have\",\n\"it's\": \"it has / it is\",\n\"let's\": \"let us\",\n\"ma'am\": \"madam\",\n\"mayn't\": \"may not\",\n\"might've\": \"might have\",\n\"mightn't\": \"might not\",\n\"mightn't've\": \"might not have\",\n\"must've\": \"must have\",\n\"mustn't\": \"must not\",\n\"mustn't've\": \"must not have\",\n\"needn't\": \"need not\",\n\"needn't've\": \"need not have\",\n\"o'clock\": \"of the clock\",\n\"oughtn't\": \"ought not\",\n\"oughtn't've\": \"ought not have\",\n\"shan't\": \"shall not\",\n\"sha'n't\": \"shall not\",\n\"shan't've\": \"shall not have\",\n\"she'd\": \"she had / she would\",\n\"she'd've\": \"she would have\",\n\"she'll\": \"she shall / she will\",\n\"she'll've\": \"she shall have / she will have\",\n\"she's\": \"she has / she is\",\n\"should've\": \"should have\",\n\"shouldn't\": \"should not\",\n\"shouldn't've\": \"should not have\",\n\"so've\": \"so have\",\n\"so's\": \"so as / so is\",\n\"that'd\": \"that would / that had\",\n\"that'd've\": \"that would have\",\n\"that's\": \"that has / that is\",\n\"there'd\": \"there had / there would\",\n\"there'd've\": \"there would have\",\n\"there's\": \"there has / there is\",\n\"they'd\": \"they had / they would\",\n\"they'd've\": \"they would have\",\n\"they'll\": \"they shall / they will\",\n\"they'll've\": \"they shall have / they will have\",\n\"they're\": \"they are\",\n\"they've\": \"they have\",\n\"to've\": \"to have\",\n\"wasn't\": \"was not\",\n\"we'd\": \"we had / we would\",\n\"we'd've\": \"we would have\",\n\"we'll\": \"we will\",\n\"we'll've\": \"we will have\",\n\"we're\": \"we are\",\n\"we've\": \"we have\",\n\"weren't\": \"were not\",\n\"what'll\": \"what shall / what will\",\n\"what'll've\": \"what shall have / what will have\",\n\"what're\": \"what are\",\n\"what's\": \"what has / what is\",\n\"what've\": \"what have\",\n\"when's\": \"when has / when is\",\n\"when've\": \"when have\",\n\"where'd\": \"where did\",\n\"where's\": \"where has / where is\",\n\"where've\": \"where have\",\n\"who'll\": \"who shall / who will\",\n\"who'll've\": \"who shall have / who will have\",\n\"who's\": \"who has / who is\",\n\"who've\": \"who have\",\n\"why's\": \"why has / why is\",\n\"why've\": \"why have\",\n\"will've\": \"will have\",\n\"won't\": \"will not\",\n\"won't've\": \"will not have\",\n\"would've\": \"would have\",\n\"wouldn't\": \"would not\",\n\"wouldn't've\": \"would not have\",\n\"y'all\": \"you all\",\n\"y'all'd\": \"you all would\",\n\"y'all'd've\": \"you all would have\",\n\"y'all're\": \"you all are\",\n\"y'all've\": \"you all have\",\n\"you'd\": \"you had / you would\",\n\"you'd've\": \"you would have\",\n\"you'll\": \"you shall / you will\",\n\"you'll've\": \"you shall have / you will have\",\n\"you're\": \"you are\",\n\"you've\": \"you have\"\n}\n",
   "metadata": {
    "execution": {
     "iopub.status.busy": "2021-12-24T08:56:20.454801Z",
     "iopub.execute_input": "2021-12-24T08:56:20.455681Z",
     "iopub.status.idle": "2021-12-24T08:56:20.469517Z",
     "shell.execute_reply.started": "2021-12-24T08:56:20.455641Z",
     "shell.execute_reply": "2021-12-24T08:56:20.468007Z"
    },
    "trusted": true
   },
   "execution_count": 9,
   "outputs": []
  },
  {
   "cell_type": "code",
   "source": "short_word_dict = {\n\"121\": \"one to one\",\n\"a/s/l\": \"age, sex, location\",\n\"adn\": \"any day now\",\n\"afaik\": \"as far as I know\",\n\"afk\": \"away from keyboard\",\n\"aight\": \"alright\",\n\"alol\": \"actually laughing out loud\",\n\"b4\": \"before\",\n\"b4n\": \"bye for now\",\n\"bak\": \"back at the keyboard\",\n\"bf\": \"boyfriend\",\n\"bff\": \"best friends forever\",\n\"bfn\": \"bye for now\",\n\"bg\": \"big grin\",\n\"bta\": \"but then again\",\n\"btw\": \"by the way\",\n\"cid\": \"crying in disgrace\",\n\"cnp\": \"continued in my next post\",\n\"cp\": \"chat post\",\n\"cu\": \"see you\",\n\"cul\": \"see you later\",\n\"cul8r\": \"see you later\",\n\"cya\": \"bye\",\n\"cyo\": \"see you online\",\n\"dbau\": \"doing business as usual\",\n\"fud\": \"fear, uncertainty, and doubt\",\n\"fwiw\": \"for what it's worth\",\n\"fyi\": \"for your information\",\n\"g\": \"grin\",\n\"g2g\": \"got to go\",\n\"ga\": \"go ahead\",\n\"gal\": \"get a life\",\n\"gf\": \"girlfriend\",\n\"gfn\": \"gone for now\",\n\"gmbo\": \"giggling my butt off\",\n\"gmta\": \"great minds think alike\",\n\"h8\": \"hate\",\n\"hagn\": \"have a good night\",\n\"hdop\": \"help delete online predators\",\n\"hhis\": \"hanging head in shame\",\n\"iac\": \"in any case\",\n\"ianal\": \"I am not a lawyer\",\n\"ic\": \"I see\",\n\"idk\": \"I don't know\",\n\"imao\": \"in my arrogant opinion\",\n\"imnsho\": \"in my not so humble opinion\",\n\"imo\": \"in my opinion\",\n\"iow\": \"in other words\",\n\"ipn\": \"I’m posting naked\",\n\"irl\": \"in real life\",\n\"jk\": \"just kidding\",\n\"l8r\": \"later\",\n\"ld\": \"later, dude\",\n\"ldr\": \"long distance relationship\",\n\"llta\": \"lots and lots of thunderous applause\",\n\"lmao\": \"laugh my ass off\",\n\"lmirl\": \"let's meet in real life\",\n\"lol\": \"laugh out loud\",\n\"ltr\": \"longterm relationship\",\n\"lulab\": \"love you like a brother\",\n\"lulas\": \"love you like a sister\",\n\"luv\": \"love\",\n\"m/f\": \"male or female\",\n\"m8\": \"mate\",\n\"milf\": \"mother I would like to fuck\",\n\"oll\": \"online love\",\n\"omg\": \"oh my god\",\n\"otoh\": \"on the other hand\",\n\"pir\": \"parent in room\",\n\"ppl\": \"people\",\n\"r\": \"are\",\n\"rofl\": \"roll on the floor laughing\",\n\"rpg\": \"role playing games\",\n\"ru\": \"are you\",\n\"shid\": \"slaps head in disgust\",\n\"somy\": \"sick of me yet\",\n\"sot\": \"short of time\",\n\"thanx\": \"thanks\",\n\"thx\": \"thanks\",\n\"ttyl\": \"talk to you later\",\n\"u\": \"you\",\n\"ur\": \"you are\",\n\"uw\": \"you’re welcome\",\n\"wb\": \"welcome back\",\n\"wfm\": \"works for me\",\n\"wibni\": \"wouldn't it be nice if\",\n\"wtf\": \"what the fuck\",\n\"wtg\": \"way to go\",\n\"wtgp\": \"want to go private\",\n\"ym\": \"young man\",\n\"gr8\": \"great\"\n}\n",
   "metadata": {
    "execution": {
     "iopub.status.busy": "2021-12-24T08:56:20.472239Z",
     "iopub.execute_input": "2021-12-24T08:56:20.472691Z",
     "iopub.status.idle": "2021-12-24T08:56:20.490805Z",
     "shell.execute_reply.started": "2021-12-24T08:56:20.472659Z",
     "shell.execute_reply": "2021-12-24T08:56:20.490264Z"
    },
    "trusted": true
   },
   "execution_count": 10,
   "outputs": []
  },
  {
   "cell_type": "code",
   "source": "emoticon_dict = {\n\":)\": \"happy\",\n\":‑)\": \"happy\",\n\":-]\": \"happy\",\n\":-3\": \"happy\",\n\":->\": \"happy\",\n\"8-)\": \"happy\",\n\":-}\": \"happy\",\n\":o)\": \"happy\",\n\":c)\": \"happy\",\n\":^)\": \"happy\",\n\"=]\": \"happy\",\n\"=)\": \"happy\",\n\"<3\": \"happy\",\n\":-(\": \"sad\",\n\":(\": \"sad\",\n\":c\": \"sad\",\n\":<\": \"sad\",\n\":[\": \"sad\",\n\">:[\": \"sad\",\n\":{\": \"sad\",\n\">:(\": \"sad\",\n\":-c\": \"sad\",\n\":-< \": \"sad\",\n\":-[\": \"sad\",\n\":-||\": \"sad\"\n}\n",
   "metadata": {
    "execution": {
     "iopub.status.busy": "2021-12-24T08:56:20.491717Z",
     "iopub.execute_input": "2021-12-24T08:56:20.491914Z",
     "iopub.status.idle": "2021-12-24T08:56:20.508238Z",
     "shell.execute_reply.started": "2021-12-24T08:56:20.491889Z",
     "shell.execute_reply": "2021-12-24T08:56:20.507604Z"
    },
    "trusted": true
   },
   "execution_count": 11,
   "outputs": []
  },
  {
   "cell_type": "code",
   "source": "#disaster word dictionaty\ndisaster_dict = {\n\"ablaze\": \"ablaze disaster\",\n\"accident\": \"accident disaster\",\n\"accidents\": \"accidents disaster\",\n\"aftershock\": \"aftershock disaster\",\n\"ambulance\": \"ambulance disaster\",\n\"ambulances\": \"ambulances disaster\",\n\"annihilate\": \"annihilate disaster\",\n\"annihilated\": \"annihilated disaster\",\n\"annihilates\": \"annihilates disaster\",\n\"annihilation\": \"annihilation disaster\",\n\"apocalypse\": \"apocalypse disaster\",\n\"armies\": \"armies disaster\",\n\"army\": \"army disaster\",\n\"armageddon\": \"armageddon disaster\",\n\"arson\": \"arson disaster\",\n\"arsonist\": \"arsonist disaster\",\n\"attack\": \"attack disaster\",\n\"attacked\": \"attacked disaster\",\n\"attacks\": \"attacks disaster\",\n\"avalanche\": \"avalanche disaster\",\n\"bang\": \"bang disaster\",\n\"battle\": \"battle disaster\",\n\"bioterror\": \"bioterror disaster\",\n\"bioterrorism\": \"bioterrorism disaster\",\n\"bioterrorist\": \"bioterrorist disaster\",\n\"blaze\": \"blaze disaster\",\n\"blazed\": \"blazed disaster\",\n\"blazen\": \"blazen disaster\",\n\"blazes\": \"blazes disaster\",\n\"blazing\": \"blazing disaster\",\n\"bleed\": \"bleed disaster\",\n\"bleeding\": \"bleeding disaster\",\n\"blight\": \"blight disaster\",\n\"blighted\": \"blighted disaster\",\n\"blighting\": \"blighting disaster\",\n\"blights\": \"blights disaster\",\n\"blizzard\": \"blizzard disaster\",\n\"blizzards\": \"blizzards disaster\",\n\"blood\": \"blood disaster\",\n\"bloody\": \"bloody disaster\",\n\"bodybag\": \"bodybag disaster\",\n\"bodybags\": \"bodybags disaster\",\n\"bomb\": \"bomb disaster\",\n\"bomber\": \"bomber disaster\",\n\"bombing\": \"bombing disaster\",\n\"bombs\": \"bombs disaster\",\n\"burn\": \"burn disaster\",\n\"burned\": \"burned disaster\",\n\"burning\": \"burning disaster\",\n\"burns\": \"burns disaster\",\n\"burnt\": \"burnt disaster\",\n\"casualties\": \"casualties disaster\",\n\"casualty\": \"casualty disaster\",\n\"catastrophe\": \"catastrophe disaster\",\n\"catastrophic\": \"catastrophic disaster\",\n\"chemical\": \"chemical disaster\",\n\"chemicals\": \"chemicals disaster\",\n\"cliff\": \"cliff disaster\",\n\"cliffhanger\": \"cliffhanger disaster\",\n\"cliffs\": \"cliffs disaster\",\n\"collapse\": \"collapse disaster\",\n\"collapsed\": \"collapsed disaster\",\n\"collide\": \"collide disaster\",\n\"collided\": \"collided disaster\",\n\"collision\": \"collision disaster\",\n\"crash\": \"crash disaster\",\n\"crashed\": \"crashed disaster\",\n\"crush\": \"crush disaster\",\n\"crushed\": \"crushed disaster\",\n\"curfew\": \"curfew disaster\",\n\"cyclone\": \"cyclone disaster\",\n\"danger\": \"danger disaster\",\n\"dangerous\": \"dangerous disaster\",\n\"dangerzone\": \"dangerzone disaster\",\n\"dead\": \"dead disaster\",\n\"death\": \"death disaster\",\n\"demolish\": \"demolish disaster\",\n\"demolished\": \"demolishes disaster\",\n\"demolishes\": \"demolishes disaster\",\n\"demolishing\": \"demolishing disaster\",\n\"died\": \"died disaster\",\n\"debris\":  \"debris disaster\",\n\"derail\": \"derail disaster\",\n\"derailed\": \"derailed disaster\",\n\"destroy\": \"destroy disaster\",\n\"destroyed\": \"destroyed disaster\",\n\"destroying\": \"destroying disaster\",\n\"destroys\": \"destroys disaster\",\n\"derailment\": \"derailment disaster\",\n\"detonate\": \"detonate disaster\",\n\"detonated\": \"detonated disaster\",\n\"detonates\": \"detonates disaster\",\n\"detonating\": \"detonating disaster\",\n\"detonation\": \"detonation disaster\",\n\"devastated\": \"devastated disaster\",\n\"devastation\": \"devastation disaster\",\n\"damage\": \"damage disaster\",\n\"damaged\": \"damaged disaster\",\n\"damages\": \"damages disaster\",\n\"deluge\": \"deluge disaster\",\n\"deluged\": \"deluged disaster\",\n\"demolish\": \"demolish disaster\",\n\"demolished\": \"demolished disaster\",\n\"demolition\": \"demolition disaster\",\n\"desolate\": \"desolate disaster\",\n\"destruction\": \"destruction disaster\",\n\"disaster\": \"disaster disaster\",\n\"disasters\": \"disasters disaster\",\n\"displace\": \"displace disaster\",\n\"displaced\": \"displaced disaster\",\n\"drought\": \"drought disaster\",\n\"drown\": \"drown disaster\",\n\"drowned\": \"drowned disaster\",\n\"drowning\": \"drowning disaster\",\n\"drowns\": \"drowns disaster\",\n\"earthquake\": \"earthquake disaster\",\n\"earthquakes\": \"earthquake disaster\",\n\"electrocute\": \"electrocute disaster\",\n\"electrocuted\": \"electrocuted disaster\",\n\"electrocutes\": \"electrocutes disaster\",\n\"electrocuting\": \"electrocuting disaster\",\n\"emergency\": \"emergency disaster\",\n\"emergencies\": \"emergencies disaster\",\n\"engulf\": \"engulf disaster\",\n\"engulfed\": \"engulfed disaster\",\n\"engulfing\": \"engulfing disaster\",\n\"evacuate\": \"evacuate disaster\",\n\"evacuated\": \"evacuated disaster\",\n\"explode\": \"explode disaster\",\n\"exploded\": \"exploded disaster\",\n\"explodes\": \"explodes disaster\",\n\"exploding\": \"exploding disaster\",\n\"explosion\": \"explosion disaster\",\n\"eyewitness\": \"eyewitness disaster\",\n\"eyewitnesses\": \"eyewitnesses disaster\",\n\"eyewitnessed\": \"eyewitnessed disaster\",\n\"fail\": \"fail disaster\",\n\"failed\": \"failed disaster\",\n\"failure\": \"failure disaster\",\n\"fall\": \"fall disaster\",\n\"falling\": \"falling disaster\",\n\"famine\": \"famine disaster\",\n\"fatal\": \"fatal disaster\",\n\"fatalities\": \"fatalities disaster\",\n\"fatality\": \"fatality disaster\",\n\"fear\": \"fear disaster\",\n\"feared\": \"feared disaster\",\n\"fearful\": \"fearful disaster\",\n\"fears\": \"fears disaster\",\n\"fearsome\": \"fearsome disaster\",\n\"fell\": \"fell disaster\",\n\"fire\": \"fire disaster\",\n\"fires\": \"fires disaster\",\n\"flame\": \"flame disaster\",\n\"flames\": \"flames disaster\",\n\"flaming\": \"flaming disaster\",\n\"flood\": \"flood disaster\",\n\"flooded\": \"flooded disaster\",\n\"flooding\": \"flooding disaster\",\n\"floods\": \"floods disaster\",\n\"hail\": \"hail disaster\",\n\"hailed\": \"hailed disaster\",\n\"hailing\": \"hailing disaster\",\n\"hails\": \"hails disaster\",\n\"hailstorm\": \"hailstorm disaster\",\n\"hailstormed\": \"hailstormed disaster\",\n\"hailstorming\": \"hailstorming disaster\",\n\"hailstorms\": \"hailstorms disaster\",\n\"harm\": \"harm disaster\",\n\"harmed\": \"harmed disaster\",\n\"harming\": \"harming disaster\",\n\"harms\": \"harms disaster\",\n\"hazard\": \"hazard disaster\",\n\"hazardous\": \"hazardous disaster\",\n\"heatwave\": \"heatwave disaster\",\n\"hell\": \"hell disaster\",\n\"hellfire\": \"hellfire disaster\",\n\"hijack\": \"hijack disaster\",\n\"hijacked\": \"hijacked disaster\",\n\"hijacker\": \"hijacker disaster\",\n\"hijacking\": \"hijacking disaster\",\n\"hostage\": \"hostage disaster\",\n\"hostages\": \"hostages disaster\",\n\"hurricane\": \"hurricane disaster\",\n\"hurricanes\": \"hurricanes disaster\",\n\"injure\": \"injure disaster\",\n\"injured\": \"injured disaster\",\n\"injures\": \"injures disaster\",\n\"injuries\": \"injuries disaster\",\n\"injuring\": \"injuring disaster\",\n\"injury\": \"injury disaster\",\n\"inundate\": \"inundate disaster\",\n\"inundated\": \"inundated disaster\",\n\"inundation\": \"inundation disaster\",\n\"landslide\": \"landslide disaster\",\n\"landslides\": \"landslides disaster\",\n\"lava\": \"lava disaster\",\n\"lightning\": \"lightning disaster\",\n\"massacre\": \"massacre disaster\",\n\"massacred\": \"massacred disaster\",\n\"massacres\": \"massacres disaster\",\n\"mayhem\": \"mayhem disaster\",\n\"meltdown\": \"meltdown disaster\",\n\"meltdowns\": \"meltdowns disaster\",\n\"military\": \"military disaster\",\n\"militarise\": \"militarise disaster\",\n\"militarize\": \"militarize disaster\",\n\"mudslide\": \"mudslide disaster\",\n\"mudslides\": \"mudslides disaster\",\n\"murder\": \"murder disaster\",\n\"murdered\": \"murdered disaster\",\n\"murderer\": \"murderer disaster\",\n\"murderers\": \"murderers disaster\",\n\"murders\": \"murders disaster\",\n\"nuclear\": \"nuclear disaster\",\n\"obliterate\": \"obliterate disaster\",\n\"obliterated\": \"obliterated disaster\",\n\"obliterates\": \"obliterates disaster\",\n\"obliterating\": \"obliterating disaster\",\n\"obliteration\": \"obliteration disaster\",\n\"outbreak\": \"outbreak disaster\",\n\"pandemonium\": \"pandemonium disaster\",\n\"panic\": \"panic disaster\",\n\"panicked\": \"panicked disaster\",\n\"panicking\": \"panicking disaster\",\n\"panics\": \"panics disaster\",\n\"police\": \"police disaster\",\n\"policeman\": \"policeman disaster\",\n\"policemen\": \"policemen disaster\",\n\"rainstorm\": \"rainstorm disaster\",\n\"quarantine\": \"quarantine disaster\",\n\"quarantined\": \"quarantined disaster\",\n\"quarantines\": \"quarantines disaster\",\n\"quarantining\": \"quarantining disaster\",\n\"rainstormed\": \"rainstormed disaster\",\n\"rainstorming\": \"rainstorming disaster\",\n\"rainstorms\": \"rainstorms disaster\",\n\"radiation\": \"radiation disaster\",\n\"raze\": \"raze disaster\",\n\"razed\": \"razed disaster\",\n\"reactor\": \"reactor disaster\",\n\"reactors\": \"reactors disaster\",\n\"refugee\": \"refugee disaster\",\n\"refugees\": \"refugees disaster\",\n\"rescue\": \"rescue disaster\",\n\"rescued\": \"rescued disaster\",\n\"rescuer\": \"rescuer disaster\",\n\"rescuing\": \"rescuing disaster\",\n\"responder\": \"responder disaster\",\n\"responders\": \"responders disaster\",\n\"riot\": \"riot disaster\",\n\"rioted\": \"rioted disaster\",\n\"rioting\": \"rioting disaster\",\n\"riots\": \"riots disaster\",\n\"rubble\": \"rubble disaster\",\n\"ruin\": \"ruin disaster\",\n\"ruined\": \"ruined disaster\",\n\"ruining\": \"ruining disaster\",\n\"ruins\": \"ruins disaster\",\n\"scream\": \"scream disaster\",\n\"screamed\": \"screamed disaster\",\n\"screaming\": \"screaming disaster\",\n\"screams\": \"screams disaster\",\n\"seismic\": \"seismic disaster\",\n\"sank\": \"sank disaster\",\n\"sink\": \"sink disaster\",\n\"sinking\": \"sinking disaster\",\n\"sunk\": \"sunk disaster\",\n\"sinkhole\": \"sinkhole disaster\",\n\"sinkholes\": \"sinkholes disaster\",\n\"siren\": \"siren disaster\",\n\"sirens\": \"sirens disaster\",\n\"smoke\": \"smoke disaster\",\n\"smoked\": \"smoked disaster\",\n\"smoking\": \"smoking disaster\",\n\"smokes\": \"smokes disaster\",\n\"snow\": \"snow disaster\",\n\"snowed\": \"snowed disaster\",\n\"snowing\": \"snowing disaster\",\n\"snows\": \"snows disaster\",\n\"snowstorm\": \"snowstorm disaster\",\n\"snowstormed\": \"snowstormed disaster\",\n\"snowstorming\": \"snowstorming disaster\",\n\"snowstorms\": \"snowstorms disaster\",\n\"spill\": \"spill disaster\",\n\"starvation\": \"starvation disaster\",\n\"starve\": \"starve disaster\",\n\"storm\": \"storm disaster\",\n\"stormed\": \"stormed disaster\",\n\"storming\": \"storming disaster\",\n\"storms\": \"storms disaster\",\n\"stretcher\": \"stretcher disaster\",\n\"suicide\": \"suicide disaster\",\n\"survive\": \"survive disaster\",\n\"survived\": \"survived disaster\",\n\"survives\": \"survives disaster\",\n\"surviving\": \"surviving disaster\",\n\"survivor\": \"survivor disaster\",\n\"survivors\": \"survivors disaster\",\n\"terror\": \"terror disaster\",\n\"terrorism\": \"terrorism disaster\",\n\"terrorist\": \"terrorist disaster\",\n\"threat\": \"threat disaster\",\n\"threaten\": \"threaten disaster\",\n\"thunder\": \"thunder disaster\",\n\"thundered\": \"thundered disaster\",\n\"thundering\": \"thundering disaster\",\n\"thunders\": \"thunders disaster\",\n\"thunderstorm\": \"thunderstorm disaster\",\n\"thunderstormed\": \"thunderstormed disaster\",\n\"thunderstorming\": \"thunderstorming disaster\",\n\"thunderstorms\": \"thunderstorms disaster\",\n\"tornado\": \"tornado disaster\",\n\"tornados\": \"tornados disaster\",\n\"tragic\": \"tragic disaster\",\n\"tragedy\": \"tragedy disaster\",\n\"trap\": \"trap disaster\",\n\"trapped\": \"trapped disaster\",\n\"trapping\": \"trapping disaster\",\n\"traps\": \"traps disaster\",\n\"trauma\": \"trauma disaster\",\n\"traumatise\": \"traumatise disaster\",\n\"traumatised\": \"traumatised disaster\",\n\"traumatises\": \"traumatises disaster\",\n\"traumatising\": \"traumatising disaster\",\n\"traumatize\": \"traumatize disaster\",\n\"traumatized\": \"traumatized disaster\",\n\"traumatizing\": \"traumatizing disaster\",\n\"traumatizes\": \"traumatizes disaster\",\n\"trouble\": \"trouble disaster\",\n\"troubles\": \"troubles disaster\",\n\"tsunami\": \"tsunami disaster\",\n\"tsunamis\": \"tsunamis disaster\",\n\"twister\": \"twister disaster\",\n\"twisters\": \"twisters disaster\",\n\"typhoon\": \"typhoon disaster\",\n\"upheaval\": \"upheaval disaster\",\n\"violence\": \"violence disaster\",\n\"violent\": \"violent disaster\",\n\"volcanic\": \"volcanic disaster\",\n\"volcano\": \"volcano disaster\",\n\"war\": \"war disaster\",\n\"warred\": \"warred disaster\",\n\"warring\": \"warring disaster\",\n\"wars\": \"wars disaster\",\n\"weapon\": \"weapon disaster\",\n\"weaponize\": \"weaponize disaster\",\n\"weaponise\": \"weaponise disaster\",\n\"weapons\": \"weapons disaster\",\n\"whirlwind\": \"whirlwind disaster\",\n\"wildfire\": \"wildfire disaster\",\n\"wildfires\": \"wildfires disaster\",\n\"windstorm\": \"windstorm disaster\",\n\"windstormed\": \"windstormed disaster\",\n\"windstorming\": \"windstorming disaster\",\n\"windstorms\": \"windstorms disaster\",\n\"wound\": \"wound disaster\",\n\"wounded\": \"wounded disaster\",\n\"wounding\": \"wounding disaster\",\n\"wounds\": \"wounds disaster\",\n\"wreck\": \"wreck disaster\",\n\"wreckage\": \"wreckage disaster\",\n\"wrecked\": \"wrecked disaster\",\n}",
   "metadata": {
    "execution": {
     "iopub.status.busy": "2021-12-24T08:56:20.509273Z",
     "iopub.execute_input": "2021-12-24T08:56:20.510030Z",
     "iopub.status.idle": "2021-12-24T08:56:20.555670Z",
     "shell.execute_reply.started": "2021-12-24T08:56:20.510000Z",
     "shell.execute_reply": "2021-12-24T08:56:20.555115Z"
    },
    "trusted": true
   },
   "execution_count": 12,
   "outputs": []
  },
  {
   "cell_type": "code",
   "source": "\ntrain['processed_text'] = train['processed_text'].apply(lambda x: lookup_dict(x, apostrophe_dict))\ntest['processed_text'] = test['processed_text'].apply(lambda x: lookup_dict(x, apostrophe_dict))\n\ntrain['processed_text'] = train['processed_text'].apply(lambda x: lookup_dict(x, short_word_dict))\ntest['processed_text'] = test['processed_text'].apply(lambda x: lookup_dict(x, short_word_dict))\n\ntrain['processed_text'] = train['processed_text'].apply(lambda x: lookup_dict(x, emoticon_dict))\ntest['processed_text'] = test['processed_text'].apply(lambda x: lookup_dict(x, emoticon_dict))\n\ntrain['processed_text'] = train['processed_text'].apply(lambda x: lookup_dict(x, disaster_dict))\ntest['processed_text'] = test['processed_text'].apply(lambda x: lookup_dict(x, disaster_dict))\n\n",
   "metadata": {
    "execution": {
     "iopub.status.busy": "2021-12-24T08:56:20.556591Z",
     "iopub.execute_input": "2021-12-24T08:56:20.557496Z",
     "iopub.status.idle": "2021-12-24T08:56:20.792572Z",
     "shell.execute_reply.started": "2021-12-24T08:56:20.557433Z",
     "shell.execute_reply": "2021-12-24T08:56:20.791264Z"
    },
    "trusted": true
   },
   "execution_count": 13,
   "outputs": []
  },
  {
   "cell_type": "code",
   "source": "#어간추출\nnltk.download('stopwords')\nnltk.download('wordnet')\nnltk.download('punkt')\nfrom nltk.corpus import stopwords\nfrom nltk.stem import PorterStemmer\nfrom bs4 import BeautifulSoup\nstemmer = PorterStemmer()\nwords = stopwords.words(\"english\")\n#stemming\ntrain['processed_text'] = train['text'].apply(lambda x: \" \".join([stemmer.stem(i)                                                              \n                                                                    for i in re.sub(\"[^a-zA-Z]\",\" \",x).split() if i not in words]).lower())\ntest['processed_text'] = test['text'].apply(lambda x: \" \".join([stemmer.stem(i)\n                                                                  for i in re.sub(\"[^a-zA-Z]\",\" \",x).split() if i not in words]).lower())\n",
   "metadata": {
    "execution": {
     "iopub.status.busy": "2021-12-24T08:56:20.794097Z",
     "iopub.execute_input": "2021-12-24T08:56:20.794281Z",
     "iopub.status.idle": "2021-12-24T08:57:24.458354Z",
     "shell.execute_reply.started": "2021-12-24T08:56:20.794255Z",
     "shell.execute_reply": "2021-12-24T08:57:24.457140Z"
    },
    "trusted": true
   },
   "execution_count": 14,
   "outputs": []
  },
  {
   "cell_type": "code",
   "source": "def clean_text(text):\n    \"\"\"Removes htmls, urls, special characters,numbers, and stopwords from the text.\n    Also tokenizes the text, converts all the words into lower-case, and lemmatizes them, \n    before converting them back to sentences.\"\"\" \n    wnl = nltk.WordNetLemmatizer() #for lemmatizing\n    stopword = nltk.corpus.stopwords.words('english')\n    \n    remove_html = BeautifulSoup(text, 'lxml').get_text() #removing html\n    remove_url = re.sub(r\"http\\S+\", \"\", remove_html)  #removing urls (replacing them with blanks)\n    tokens = nltk.word_tokenize(remove_url)    #tokenizing the words\n    lower = [word.lower() for word in tokens]  #converting words to lowercase\n    remove_stopwords = [word for word in lower if word not in stopword]  #removing stopwords\n    remove_char = [word for word in remove_stopwords if word.isalpha()]     #include only alphabets\n    lemm_text = [wnl.lemmatize(word) for word in remove_char]     #lemmatizing the words\n    cleaned_data = \" \".join([str(word) for word in lemm_text])\n    return cleaned_data",
   "metadata": {
    "execution": {
     "iopub.status.busy": "2021-12-24T08:57:24.459502Z",
     "iopub.execute_input": "2021-12-24T08:57:24.459701Z",
     "iopub.status.idle": "2021-12-24T08:57:24.466537Z",
     "shell.execute_reply.started": "2021-12-24T08:57:24.459677Z",
     "shell.execute_reply": "2021-12-24T08:57:24.465544Z"
    },
    "trusted": true
   },
   "execution_count": 15,
   "outputs": []
  },
  {
   "cell_type": "code",
   "source": "train['processed_text'] = train['text'].map(clean_text)\ntest['processed_text'] = test['text'].map(clean_text)\ntrain['processed_text'].head()",
   "metadata": {
    "execution": {
     "iopub.status.busy": "2021-12-24T08:57:24.467999Z",
     "iopub.execute_input": "2021-12-24T08:57:24.468261Z",
     "iopub.status.idle": "2021-12-24T08:57:35.316877Z",
     "shell.execute_reply.started": "2021-12-24T08:57:24.468230Z",
     "shell.execute_reply": "2021-12-24T08:57:35.315429Z"
    },
    "trusted": true
   },
   "execution_count": 16,
   "outputs": []
  },
  {
   "cell_type": "code",
   "source": "#1번 초과로 나온 단어는 삭제\nfrom collections import Counter\nfrom itertools import chain\n\nlists = train['processed_text'].str.split().tolist()\ncount = Counter(chain.from_iterable(lists))\ntrain['processed_text'] = [' '.join([j for j in i if count[j]>1])for i in lists]\n\nlists = test['processed_text'].str.split().tolist()\ncount = Counter(chain.from_iterable(lists))\ntest['processed_text'] = [' '.join([j for j in i if count[j]>1])for i in lists]\n\n",
   "metadata": {
    "execution": {
     "iopub.status.busy": "2021-12-24T08:57:35.318337Z",
     "iopub.execute_input": "2021-12-24T08:57:35.318527Z",
     "iopub.status.idle": "2021-12-24T08:57:35.377628Z",
     "shell.execute_reply.started": "2021-12-24T08:57:35.318501Z",
     "shell.execute_reply": "2021-12-24T08:57:35.376833Z"
    },
    "trusted": true
   },
   "execution_count": 17,
   "outputs": []
  },
  {
   "cell_type": "code",
   "source": "y = train.target\nX = train['processed_text']\nX_test = test['processed_text']\n",
   "metadata": {
    "execution": {
     "iopub.status.busy": "2021-12-24T08:57:35.378550Z",
     "iopub.execute_input": "2021-12-24T08:57:35.378736Z",
     "iopub.status.idle": "2021-12-24T08:57:35.383569Z",
     "shell.execute_reply.started": "2021-12-24T08:57:35.378714Z",
     "shell.execute_reply": "2021-12-24T08:57:35.382465Z"
    },
    "trusted": true
   },
   "execution_count": 18,
   "outputs": []
  },
  {
   "cell_type": "code",
   "source": "#model division\nfrom sklearn.model_selection import train_test_split\nX_train, X_val, y_train, y_val = train_test_split(X, y, stratify = y, test_size = 0.10, shuffle = True, random_state = 42)\nX_train.shape, X_val.shape, y_train.shape, y_val.shape",
   "metadata": {
    "execution": {
     "iopub.status.busy": "2021-12-24T08:57:35.384420Z",
     "iopub.execute_input": "2021-12-24T08:57:35.384770Z",
     "iopub.status.idle": "2021-12-24T08:57:35.412161Z",
     "shell.execute_reply.started": "2021-12-24T08:57:35.384739Z",
     "shell.execute_reply": "2021-12-24T08:57:35.411309Z"
    },
    "trusted": true
   },
   "execution_count": 19,
   "outputs": []
  },
  {
   "cell_type": "code",
   "source": "#단어 가중치 계산\nfrom sklearn.feature_extraction.text import TfidfVectorizer\n\nvectorizer_tfidf = TfidfVectorizer(stop_words = 'english', max_df = 0.7)\ntrain_tfIdf = vectorizer_tfidf.fit_transform(X_train.values.astype('U'))\nval_tfIdf = vectorizer_tfidf.transform(X_val.values.astype('U'))\nX_test_tfIdf = vectorizer_tfidf.transform(X_test.values.astype('U'))\n",
   "metadata": {
    "execution": {
     "iopub.status.busy": "2021-12-24T08:57:35.413529Z",
     "iopub.execute_input": "2021-12-24T08:57:35.413826Z",
     "iopub.status.idle": "2021-12-24T08:57:35.597452Z",
     "shell.execute_reply.started": "2021-12-24T08:57:35.413798Z",
     "shell.execute_reply": "2021-12-24T08:57:35.596440Z"
    },
    "trusted": true
   },
   "execution_count": 20,
   "outputs": []
  },
  {
   "cell_type": "code",
   "source": "train_tfIdf.shape, val_tfIdf.shape, X_test_tfIdf.shape",
   "metadata": {
    "execution": {
     "iopub.status.busy": "2021-12-24T08:57:35.598548Z",
     "iopub.execute_input": "2021-12-24T08:57:35.598781Z",
     "iopub.status.idle": "2021-12-24T08:57:35.605537Z",
     "shell.execute_reply.started": "2021-12-24T08:57:35.598749Z",
     "shell.execute_reply": "2021-12-24T08:57:35.604590Z"
    },
    "trusted": true
   },
   "execution_count": 21,
   "outputs": []
  },
  {
   "cell_type": "code",
   "source": "from sklearn.neural_network import MLPClassifier\nfrom sklearn.model_selection import GridSearchCV\nimport xgboost as xgb\nfrom sklearn.metrics import roc_curve, auc, confusion_matrix, log_loss, f1_score\n# max_depth = 6, 학습률은 0.1, 예제가 이진분류이므로 목적함수(objective)는 binary:logistic(이진 로지스틱)\n# 오류함수의 평가성능지표는 logloss\n# 부스팅 반복횟수는 400\n# 조기중단을 위한 최소 반복횟수는 100\n\nparams = {'max_depth' : 6,\n         'eta' : 0.1, \n         'objective' : 'binary:logistic',\n         'eval_metric' : 'logloss',\n         'early_stoppings' : 100 }",
   "metadata": {
    "execution": {
     "iopub.status.busy": "2021-12-24T08:57:35.607018Z",
     "iopub.execute_input": "2021-12-24T08:57:35.607432Z",
     "iopub.status.idle": "2021-12-24T08:57:35.751709Z",
     "shell.execute_reply.started": "2021-12-24T08:57:35.607303Z",
     "shell.execute_reply": "2021-12-24T08:57:35.750301Z"
    },
    "trusted": true
   },
   "execution_count": 22,
   "outputs": []
  },
  {
   "cell_type": "code",
   "source": "#임계점 찾기\ndef find_best_threshold(threshould, fpr, tpr):\n    t = threshould[np.argmax(tpr*(1-fpr))]\n    # (tpr*(1-fpr)) will be maximum if your fpr is very low and tpr is very high\n    print(\"the maximum value of tpr*(1-fpr)\", max(tpr*(1-fpr)), \"for threshold\", np.round(t,3))\n    return t\n#임계점 이상일 때 1, 미만일 때 0\ndef predict_with_best_t(proba, threshold):\n    predictions = []\n    for i in proba:\n        if i>=threshold:\n            predictions.append(1)\n        else:\n            predictions.append(0)\n    return predictions",
   "metadata": {
    "execution": {
     "iopub.status.busy": "2021-12-24T08:57:35.752868Z",
     "iopub.execute_input": "2021-12-24T08:57:35.753093Z",
     "iopub.status.idle": "2021-12-24T08:57:35.759052Z",
     "shell.execute_reply.started": "2021-12-24T08:57:35.753046Z",
     "shell.execute_reply": "2021-12-24T08:57:35.758128Z"
    },
    "trusted": true
   },
   "execution_count": 23,
   "outputs": []
  },
  {
   "cell_type": "code",
   "source": "def plot_roc_curve(fpr_tr, tpr_tr):\n    '''\n    plot the ROC curve for the FPR and TPR value\n    '''\n    plt.plot(fpr_tr, tpr_tr, color='green', label='ROC_train AUC = {:0.2f} '.format(auc(fpr_tr, tpr_tr)))\n    plt.plot([0, 1], [0, 1], color='darkblue', linestyle='--')\n    plt.xlabel('False Positive Rate')\n    plt.ylabel('True Positive Rate')\n    plt.title('Receiver Operating Characteristic (ROC) Curve')\n    plt.legend()\n    plt.show()",
   "metadata": {
    "execution": {
     "iopub.status.busy": "2021-12-24T08:57:35.760164Z",
     "iopub.execute_input": "2021-12-24T08:57:35.760338Z",
     "iopub.status.idle": "2021-12-24T08:57:35.775267Z",
     "shell.execute_reply.started": "2021-12-24T08:57:35.760316Z",
     "shell.execute_reply": "2021-12-24T08:57:35.774507Z"
    },
    "trusted": true
   },
   "execution_count": 24,
   "outputs": []
  },
  {
   "cell_type": "markdown",
   "source": "",
   "metadata": {}
  },
  {
   "cell_type": "code",
   "source": "d_train = xgb.DMatrix(train_tfIdf, label=y_train)\nwatchlist = [(d_train, 'train')]\n\nbst = xgb.train(params, d_train, 400, watchlist, early_stopping_rounds=20, verbose_eval=10)\n\npredict_y = bst.predict(d_train)\nprint(\"The test log loss is:\",log_loss(y_train, predict_y, eps=1e-15))\n#fpr,tpr,임계값\nfpr_tfidf, tpr_tfidf, t_tfidf = roc_curve(y_train, predict_y)\nprint('F1 score',f1_score(y_train,predict_with_best_t(predict_y, find_best_threshold(t_tfidf,fpr_tfidf,tpr_tfidf))))\nplot_roc_curve(fpr_tfidf,tpr_tfidf)",
   "metadata": {
    "execution": {
     "iopub.status.busy": "2021-12-24T08:57:35.776510Z",
     "iopub.execute_input": "2021-12-24T08:57:35.776678Z",
     "iopub.status.idle": "2021-12-24T08:57:41.152632Z",
     "shell.execute_reply.started": "2021-12-24T08:57:35.776655Z",
     "shell.execute_reply": "2021-12-24T08:57:41.152038Z"
    },
    "trusted": true
   },
   "execution_count": 25,
   "outputs": []
  },
  {
   "cell_type": "code",
   "source": "d_test = xgb.DMatrix(X_test_tfIdf)\ny_ = bst.predict(d_test)\ny_pred = predict_with_best_t(y_, find_best_threshold(t_tfidf,fpr_tfidf,tpr_tfidf))",
   "metadata": {
    "execution": {
     "iopub.status.busy": "2021-12-24T08:57:41.153616Z",
     "iopub.execute_input": "2021-12-24T08:57:41.154203Z",
     "iopub.status.idle": "2021-12-24T08:57:41.185268Z",
     "shell.execute_reply.started": "2021-12-24T08:57:41.154161Z",
     "shell.execute_reply": "2021-12-24T08:57:41.184694Z"
    },
    "trusted": true
   },
   "execution_count": 26,
   "outputs": []
  },
  {
   "cell_type": "code",
   "source": "submission = pd.read_csv(\"../input/nlp-getting-started/sample_submission.csv\")\nsubmission['target'] = y_pred\nsubmission['id'] = test.id\nsubmission.to_csv('submission.csv',index = False)\nsubmission",
   "metadata": {
    "execution": {
     "iopub.status.busy": "2021-12-24T08:57:41.186239Z",
     "iopub.execute_input": "2021-12-24T08:57:41.190304Z",
     "iopub.status.idle": "2021-12-24T08:57:41.228924Z",
     "shell.execute_reply.started": "2021-12-24T08:57:41.190243Z",
     "shell.execute_reply": "2021-12-24T08:57:41.227726Z"
    },
    "trusted": true
   },
   "execution_count": 27,
   "outputs": []
  }
 ]
}